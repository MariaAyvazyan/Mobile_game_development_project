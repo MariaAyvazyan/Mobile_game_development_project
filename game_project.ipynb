{
 "cells": [
  {
   "cell_type": "markdown",
   "metadata": {},
   "source": [
    "# Mobile Game Depelopment project"
   ]
  },
  {
   "cell_type": "markdown",
   "metadata": {},
   "source": [
    "### Task 1. \n",
    "\n",
    "Retention is one of the company's most important metrics. Your task is to write a function that will count the players' retention rate (by days from the registration date).\n",
    "\n",
    "The function must be written in Python. It can be tasted either on the full dataset or a data sample."
   ]
  },
  {
   "cell_type": "code",
   "execution_count": 3,
   "metadata": {},
   "outputs": [],
   "source": [
    "#Importing all the necessary libraries \n",
    "import warnings \n",
    "warnings.filterwarnings('ignore')\n",
    "\n",
    "import pandas as pd\n",
    "import seaborn as sns\n",
    "import numpy as np\n",
    "import scipy.stats as ss\n",
    "from scipy.stats import norm, mannwhitneyu, shapiro, chi2_contingency\n",
    "from tqdm.auto import tqdm\n",
    "\n",
    "import matplotlib.pyplot as plt\n",
    "%matplotlib inline"
   ]
  },
  {
   "cell_type": "code",
   "execution_count": 4,
   "metadata": {},
   "outputs": [],
   "source": [
    "#Reading the data. There are two files: one that includes user's registration dates,\n",
    "#and  the one that includes their first authorisation date. \n",
    "\n",
    "reg = pd.read_csv('/Users/maria/Desktop/Учеба/mnt/HC_Volume_18315164/home-jupyter/jupyter-m-ajvazjan-23/shared/problem1-reg_data.csv', sep = ';')\n",
    "auth = pd.read_csv('/Users/maria/Desktop/Учеба/mnt/HC_Volume_18315164/home-jupyter/jupyter-m-ajvazjan-23/shared/problem1-auth_data.csv', sep = ';')"
   ]
  },
  {
   "cell_type": "code",
   "execution_count": 5,
   "metadata": {},
   "outputs": [
    {
     "data": {
      "text/html": [
       "<div>\n",
       "<style scoped>\n",
       "    .dataframe tbody tr th:only-of-type {\n",
       "        vertical-align: middle;\n",
       "    }\n",
       "\n",
       "    .dataframe tbody tr th {\n",
       "        vertical-align: top;\n",
       "    }\n",
       "\n",
       "    .dataframe thead th {\n",
       "        text-align: right;\n",
       "    }\n",
       "</style>\n",
       "<table border=\"1\" class=\"dataframe\">\n",
       "  <thead>\n",
       "    <tr style=\"text-align: right;\">\n",
       "      <th></th>\n",
       "      <th>reg_ts</th>\n",
       "      <th>uid</th>\n",
       "    </tr>\n",
       "  </thead>\n",
       "  <tbody>\n",
       "    <tr>\n",
       "      <th>0</th>\n",
       "      <td>911382223</td>\n",
       "      <td>1</td>\n",
       "    </tr>\n",
       "    <tr>\n",
       "      <th>1</th>\n",
       "      <td>932683089</td>\n",
       "      <td>2</td>\n",
       "    </tr>\n",
       "    <tr>\n",
       "      <th>2</th>\n",
       "      <td>947802447</td>\n",
       "      <td>3</td>\n",
       "    </tr>\n",
       "    <tr>\n",
       "      <th>3</th>\n",
       "      <td>959523541</td>\n",
       "      <td>4</td>\n",
       "    </tr>\n",
       "    <tr>\n",
       "      <th>4</th>\n",
       "      <td>969103313</td>\n",
       "      <td>5</td>\n",
       "    </tr>\n",
       "  </tbody>\n",
       "</table>\n",
       "</div>"
      ],
      "text/plain": [
       "      reg_ts  uid\n",
       "0  911382223    1\n",
       "1  932683089    2\n",
       "2  947802447    3\n",
       "3  959523541    4\n",
       "4  969103313    5"
      ]
     },
     "execution_count": 5,
     "metadata": {},
     "output_type": "execute_result"
    }
   ],
   "source": [
    "reg.head()"
   ]
  },
  {
   "cell_type": "code",
   "execution_count": 6,
   "metadata": {},
   "outputs": [
    {
     "data": {
      "text/html": [
       "<div>\n",
       "<style scoped>\n",
       "    .dataframe tbody tr th:only-of-type {\n",
       "        vertical-align: middle;\n",
       "    }\n",
       "\n",
       "    .dataframe tbody tr th {\n",
       "        vertical-align: top;\n",
       "    }\n",
       "\n",
       "    .dataframe thead th {\n",
       "        text-align: right;\n",
       "    }\n",
       "</style>\n",
       "<table border=\"1\" class=\"dataframe\">\n",
       "  <thead>\n",
       "    <tr style=\"text-align: right;\">\n",
       "      <th></th>\n",
       "      <th>auth_ts</th>\n",
       "      <th>uid</th>\n",
       "    </tr>\n",
       "  </thead>\n",
       "  <tbody>\n",
       "    <tr>\n",
       "      <th>0</th>\n",
       "      <td>911382223</td>\n",
       "      <td>1</td>\n",
       "    </tr>\n",
       "    <tr>\n",
       "      <th>1</th>\n",
       "      <td>932683089</td>\n",
       "      <td>2</td>\n",
       "    </tr>\n",
       "    <tr>\n",
       "      <th>2</th>\n",
       "      <td>932921206</td>\n",
       "      <td>2</td>\n",
       "    </tr>\n",
       "    <tr>\n",
       "      <th>3</th>\n",
       "      <td>933393015</td>\n",
       "      <td>2</td>\n",
       "    </tr>\n",
       "    <tr>\n",
       "      <th>4</th>\n",
       "      <td>933875379</td>\n",
       "      <td>2</td>\n",
       "    </tr>\n",
       "  </tbody>\n",
       "</table>\n",
       "</div>"
      ],
      "text/plain": [
       "     auth_ts  uid\n",
       "0  911382223    1\n",
       "1  932683089    2\n",
       "2  932921206    2\n",
       "3  933393015    2\n",
       "4  933875379    2"
      ]
     },
     "execution_count": 6,
     "metadata": {},
     "output_type": "execute_result"
    }
   ],
   "source": [
    "auth.head()"
   ]
  },
  {
   "cell_type": "markdown",
   "metadata": {},
   "source": [
    "The dataset uses unix time. Let's convert the time to the format 'YYYY-MM-DD'."
   ]
  },
  {
   "cell_type": "code",
   "execution_count": 7,
   "metadata": {},
   "outputs": [],
   "source": [
    "reg.reg_ts = pd.to_datetime(reg.reg_ts, unit='s').dt.normalize()\n",
    "auth.auth_ts = pd.to_datetime(auth.auth_ts, unit='s').dt.normalize()\n"
   ]
  },
  {
   "cell_type": "code",
   "execution_count": 8,
   "metadata": {},
   "outputs": [
    {
     "data": {
      "text/plain": [
       "reg_ts    datetime64[ns]\n",
       "uid                int64\n",
       "dtype: object"
      ]
     },
     "execution_count": 8,
     "metadata": {},
     "output_type": "execute_result"
    }
   ],
   "source": [
    "reg.dtypes"
   ]
  },
  {
   "cell_type": "code",
   "execution_count": 9,
   "metadata": {},
   "outputs": [
    {
     "data": {
      "text/plain": [
       "(1000000, 2)"
      ]
     },
     "execution_count": 9,
     "metadata": {},
     "output_type": "execute_result"
    }
   ],
   "source": [
    "reg.shape"
   ]
  },
  {
   "cell_type": "markdown",
   "metadata": {},
   "source": [
    "To get the retention rate, we need to calculate the difference between users' latest authorization date and their registration date. Since the data is in different datasets, I will merge them first."
   ]
  },
  {
   "cell_type": "code",
   "execution_count": 10,
   "metadata": {},
   "outputs": [
    {
     "data": {
      "text/html": [
       "<div>\n",
       "<style scoped>\n",
       "    .dataframe tbody tr th:only-of-type {\n",
       "        vertical-align: middle;\n",
       "    }\n",
       "\n",
       "    .dataframe tbody tr th {\n",
       "        vertical-align: top;\n",
       "    }\n",
       "\n",
       "    .dataframe thead th {\n",
       "        text-align: right;\n",
       "    }\n",
       "</style>\n",
       "<table border=\"1\" class=\"dataframe\">\n",
       "  <thead>\n",
       "    <tr style=\"text-align: right;\">\n",
       "      <th></th>\n",
       "      <th>reg_ts</th>\n",
       "      <th>uid</th>\n",
       "      <th>auth_ts</th>\n",
       "    </tr>\n",
       "  </thead>\n",
       "  <tbody>\n",
       "    <tr>\n",
       "      <th>0</th>\n",
       "      <td>1998-11-18</td>\n",
       "      <td>1</td>\n",
       "      <td>1998-11-18</td>\n",
       "    </tr>\n",
       "    <tr>\n",
       "      <th>1</th>\n",
       "      <td>1999-07-22</td>\n",
       "      <td>2</td>\n",
       "      <td>1999-07-22</td>\n",
       "    </tr>\n",
       "    <tr>\n",
       "      <th>2</th>\n",
       "      <td>1999-07-22</td>\n",
       "      <td>2</td>\n",
       "      <td>1999-07-25</td>\n",
       "    </tr>\n",
       "    <tr>\n",
       "      <th>3</th>\n",
       "      <td>1999-07-22</td>\n",
       "      <td>2</td>\n",
       "      <td>1999-07-31</td>\n",
       "    </tr>\n",
       "    <tr>\n",
       "      <th>4</th>\n",
       "      <td>1999-07-22</td>\n",
       "      <td>2</td>\n",
       "      <td>1999-08-05</td>\n",
       "    </tr>\n",
       "  </tbody>\n",
       "</table>\n",
       "</div>"
      ],
      "text/plain": [
       "      reg_ts  uid    auth_ts\n",
       "0 1998-11-18    1 1998-11-18\n",
       "1 1999-07-22    2 1999-07-22\n",
       "2 1999-07-22    2 1999-07-25\n",
       "3 1999-07-22    2 1999-07-31\n",
       "4 1999-07-22    2 1999-08-05"
      ]
     },
     "execution_count": 10,
     "metadata": {},
     "output_type": "execute_result"
    }
   ],
   "source": [
    "df = reg.merge(auth, on = 'uid', how = 'left')\n",
    "df.head()"
   ]
  },
  {
   "cell_type": "markdown",
   "metadata": {},
   "source": [
    "### A function to calculate the retention rate for each player "
   ]
  },
  {
   "cell_type": "code",
   "execution_count": 11,
   "metadata": {},
   "outputs": [],
   "source": [
    "def retention_rate(df, date):\n",
    "    \n",
    "    '''Creating a filter by registration date'''\n",
    "    \n",
    "    df = df.query(\"reg_ts >= @date\")\n",
    "\n",
    "    '''Creating a column with the amount of days between the registration date \n",
    "    amd the latest authorization date'''\n",
    "    \n",
    "    df['days'] = (df.auth_ts - df.reg_ts).dt.days\n",
    "    \n",
    "    '''Grouping the players by the added column''' \n",
    "    \n",
    "    retention_df = df.groupby(['reg_ts','days'], as_index = False)\\\n",
    "                 .agg({'uid':'count'})\\\n",
    "                 .rename(columns={'uid': 'user_count'})\\\n",
    "                 .sort_values('days')\n",
    "    \n",
    "    '''Adding a column with the total amount of registered users'''\n",
    "    \n",
    "    all_players = retention_df.query('days == 0')\\\n",
    "                          .rename(columns={'user_count':'reg_users'})\\\n",
    "                          [['reg_ts', 'reg_users']]\n",
    "\n",
    "    retention_df = retention_df.merge(all_players, on='reg_ts')\\\n",
    "                           .rename(columns={'reg_ts':'reg_date'})\n",
    "    \n",
    "    '''Calculating the retention rate by dividing the users grouped by registration date \n",
    "    by the total amount of registered users'''\n",
    "    \n",
    "    retention_df['rr'] = ((retention_df.user_count / retention_df.reg_users)*100).round(2)\n",
    "    \n",
    "    '''Visualizing the data'''\n",
    "    \n",
    "    retention_df = retention_df.pivot(index='reg_date', columns='days', values='rr')\\\n",
    "                        .drop(columns=0)\\\n",
    "                        .fillna('')\n",
    "                        \n",
    "    return retention_df"
   ]
  },
  {
   "cell_type": "code",
   "execution_count": 12,
   "metadata": {
    "scrolled": true
   },
   "outputs": [
    {
     "data": {
      "text/html": [
       "<div>\n",
       "<style scoped>\n",
       "    .dataframe tbody tr th:only-of-type {\n",
       "        vertical-align: middle;\n",
       "    }\n",
       "\n",
       "    .dataframe tbody tr th {\n",
       "        vertical-align: top;\n",
       "    }\n",
       "\n",
       "    .dataframe thead th {\n",
       "        text-align: right;\n",
       "    }\n",
       "</style>\n",
       "<table border=\"1\" class=\"dataframe\">\n",
       "  <thead>\n",
       "    <tr style=\"text-align: right;\">\n",
       "      <th>days</th>\n",
       "      <th>1</th>\n",
       "      <th>2</th>\n",
       "      <th>3</th>\n",
       "      <th>4</th>\n",
       "      <th>5</th>\n",
       "      <th>6</th>\n",
       "      <th>7</th>\n",
       "      <th>8</th>\n",
       "      <th>9</th>\n",
       "      <th>10</th>\n",
       "      <th>...</th>\n",
       "      <th>13</th>\n",
       "      <th>14</th>\n",
       "      <th>15</th>\n",
       "      <th>16</th>\n",
       "      <th>17</th>\n",
       "      <th>18</th>\n",
       "      <th>19</th>\n",
       "      <th>20</th>\n",
       "      <th>21</th>\n",
       "      <th>22</th>\n",
       "    </tr>\n",
       "    <tr>\n",
       "      <th>reg_date</th>\n",
       "      <th></th>\n",
       "      <th></th>\n",
       "      <th></th>\n",
       "      <th></th>\n",
       "      <th></th>\n",
       "      <th></th>\n",
       "      <th></th>\n",
       "      <th></th>\n",
       "      <th></th>\n",
       "      <th></th>\n",
       "      <th></th>\n",
       "      <th></th>\n",
       "      <th></th>\n",
       "      <th></th>\n",
       "      <th></th>\n",
       "      <th></th>\n",
       "      <th></th>\n",
       "      <th></th>\n",
       "      <th></th>\n",
       "      <th></th>\n",
       "      <th></th>\n",
       "    </tr>\n",
       "  </thead>\n",
       "  <tbody>\n",
       "    <tr>\n",
       "      <th>2020-09-01</th>\n",
       "      <td>2.02</td>\n",
       "      <td>4.1</td>\n",
       "      <td>4.22</td>\n",
       "      <td>4.6</td>\n",
       "      <td>6.43</td>\n",
       "      <td>5.61</td>\n",
       "      <td>6.43</td>\n",
       "      <td>4.1</td>\n",
       "      <td>5.42</td>\n",
       "      <td>5.11</td>\n",
       "      <td>...</td>\n",
       "      <td>5.49</td>\n",
       "      <td>4.29</td>\n",
       "      <td>4.41</td>\n",
       "      <td>4.35</td>\n",
       "      <td>5.04</td>\n",
       "      <td>4.16</td>\n",
       "      <td>4.35</td>\n",
       "      <td>3.59</td>\n",
       "      <td>4.35</td>\n",
       "      <td>1.58</td>\n",
       "    </tr>\n",
       "    <tr>\n",
       "      <th>2020-09-02</th>\n",
       "      <td>2.52</td>\n",
       "      <td>3.9</td>\n",
       "      <td>4.66</td>\n",
       "      <td>5.67</td>\n",
       "      <td>6.23</td>\n",
       "      <td>7.12</td>\n",
       "      <td>6.3</td>\n",
       "      <td>4.85</td>\n",
       "      <td>4.09</td>\n",
       "      <td>5.67</td>\n",
       "      <td>...</td>\n",
       "      <td>4.35</td>\n",
       "      <td>4.97</td>\n",
       "      <td>5.29</td>\n",
       "      <td>4.16</td>\n",
       "      <td>4.85</td>\n",
       "      <td>3.9</td>\n",
       "      <td>3.72</td>\n",
       "      <td>4.66</td>\n",
       "      <td>2.64</td>\n",
       "      <td></td>\n",
       "    </tr>\n",
       "    <tr>\n",
       "      <th>2020-09-03</th>\n",
       "      <td>2.33</td>\n",
       "      <td>5.41</td>\n",
       "      <td>4.71</td>\n",
       "      <td>6.54</td>\n",
       "      <td>6.98</td>\n",
       "      <td>8.55</td>\n",
       "      <td>6.35</td>\n",
       "      <td>5.47</td>\n",
       "      <td>6.29</td>\n",
       "      <td>6.35</td>\n",
       "      <td>...</td>\n",
       "      <td>5.97</td>\n",
       "      <td>5.47</td>\n",
       "      <td>5.34</td>\n",
       "      <td>4.4</td>\n",
       "      <td>4.84</td>\n",
       "      <td>4.65</td>\n",
       "      <td>5.47</td>\n",
       "      <td>2.39</td>\n",
       "      <td></td>\n",
       "      <td></td>\n",
       "    </tr>\n",
       "    <tr>\n",
       "      <th>2020-09-04</th>\n",
       "      <td>2.01</td>\n",
       "      <td>3.64</td>\n",
       "      <td>3.64</td>\n",
       "      <td>5.15</td>\n",
       "      <td>6.4</td>\n",
       "      <td>7.28</td>\n",
       "      <td>4.96</td>\n",
       "      <td>5.34</td>\n",
       "      <td>4.33</td>\n",
       "      <td>5.65</td>\n",
       "      <td>...</td>\n",
       "      <td>5.59</td>\n",
       "      <td>4.39</td>\n",
       "      <td>4.52</td>\n",
       "      <td>4.52</td>\n",
       "      <td>4.27</td>\n",
       "      <td>4.77</td>\n",
       "      <td>2.64</td>\n",
       "      <td></td>\n",
       "      <td></td>\n",
       "      <td></td>\n",
       "    </tr>\n",
       "    <tr>\n",
       "      <th>2020-09-05</th>\n",
       "      <td>2.76</td>\n",
       "      <td>3.95</td>\n",
       "      <td>4.64</td>\n",
       "      <td>5.45</td>\n",
       "      <td>5.89</td>\n",
       "      <td>7.46</td>\n",
       "      <td>4.89</td>\n",
       "      <td>5.08</td>\n",
       "      <td>5.45</td>\n",
       "      <td>6.02</td>\n",
       "      <td>...</td>\n",
       "      <td>5.39</td>\n",
       "      <td>4.51</td>\n",
       "      <td>5.14</td>\n",
       "      <td>4.45</td>\n",
       "      <td>4.76</td>\n",
       "      <td>2.51</td>\n",
       "      <td></td>\n",
       "      <td></td>\n",
       "      <td></td>\n",
       "      <td></td>\n",
       "    </tr>\n",
       "    <tr>\n",
       "      <th>2020-09-06</th>\n",
       "      <td>3.13</td>\n",
       "      <td>4.32</td>\n",
       "      <td>5.44</td>\n",
       "      <td>5.63</td>\n",
       "      <td>5.88</td>\n",
       "      <td>6.82</td>\n",
       "      <td>6.07</td>\n",
       "      <td>5.82</td>\n",
       "      <td>5.5</td>\n",
       "      <td>4.88</td>\n",
       "      <td>...</td>\n",
       "      <td>5.19</td>\n",
       "      <td>5.5</td>\n",
       "      <td>4.57</td>\n",
       "      <td>4.82</td>\n",
       "      <td>2.56</td>\n",
       "      <td></td>\n",
       "      <td></td>\n",
       "      <td></td>\n",
       "      <td></td>\n",
       "      <td></td>\n",
       "    </tr>\n",
       "    <tr>\n",
       "      <th>2020-09-07</th>\n",
       "      <td>2.94</td>\n",
       "      <td>4.25</td>\n",
       "      <td>5.37</td>\n",
       "      <td>5.06</td>\n",
       "      <td>6.37</td>\n",
       "      <td>7.31</td>\n",
       "      <td>5.25</td>\n",
       "      <td>4.12</td>\n",
       "      <td>5.62</td>\n",
       "      <td>6.0</td>\n",
       "      <td>...</td>\n",
       "      <td>5.06</td>\n",
       "      <td>4.25</td>\n",
       "      <td>5.06</td>\n",
       "      <td>3.37</td>\n",
       "      <td></td>\n",
       "      <td></td>\n",
       "      <td></td>\n",
       "      <td></td>\n",
       "      <td></td>\n",
       "      <td></td>\n",
       "    </tr>\n",
       "    <tr>\n",
       "      <th>2020-09-08</th>\n",
       "      <td>1.75</td>\n",
       "      <td>3.93</td>\n",
       "      <td>3.93</td>\n",
       "      <td>4.86</td>\n",
       "      <td>7.61</td>\n",
       "      <td>7.54</td>\n",
       "      <td>6.61</td>\n",
       "      <td>5.17</td>\n",
       "      <td>5.17</td>\n",
       "      <td>6.55</td>\n",
       "      <td>...</td>\n",
       "      <td>5.17</td>\n",
       "      <td>4.74</td>\n",
       "      <td>3.05</td>\n",
       "      <td></td>\n",
       "      <td></td>\n",
       "      <td></td>\n",
       "      <td></td>\n",
       "      <td></td>\n",
       "      <td></td>\n",
       "      <td></td>\n",
       "    </tr>\n",
       "    <tr>\n",
       "      <th>2020-09-09</th>\n",
       "      <td>1.74</td>\n",
       "      <td>3.24</td>\n",
       "      <td>4.67</td>\n",
       "      <td>5.72</td>\n",
       "      <td>6.66</td>\n",
       "      <td>5.72</td>\n",
       "      <td>5.91</td>\n",
       "      <td>4.36</td>\n",
       "      <td>5.04</td>\n",
       "      <td>3.73</td>\n",
       "      <td>...</td>\n",
       "      <td>4.85</td>\n",
       "      <td>2.43</td>\n",
       "      <td></td>\n",
       "      <td></td>\n",
       "      <td></td>\n",
       "      <td></td>\n",
       "      <td></td>\n",
       "      <td></td>\n",
       "      <td></td>\n",
       "      <td></td>\n",
       "    </tr>\n",
       "    <tr>\n",
       "      <th>2020-09-10</th>\n",
       "      <td>2.05</td>\n",
       "      <td>4.29</td>\n",
       "      <td>4.79</td>\n",
       "      <td>4.23</td>\n",
       "      <td>6.77</td>\n",
       "      <td>6.28</td>\n",
       "      <td>7.09</td>\n",
       "      <td>4.85</td>\n",
       "      <td>4.54</td>\n",
       "      <td>5.66</td>\n",
       "      <td>...</td>\n",
       "      <td>3.6</td>\n",
       "      <td></td>\n",
       "      <td></td>\n",
       "      <td></td>\n",
       "      <td></td>\n",
       "      <td></td>\n",
       "      <td></td>\n",
       "      <td></td>\n",
       "      <td></td>\n",
       "      <td></td>\n",
       "    </tr>\n",
       "    <tr>\n",
       "      <th>2020-09-11</th>\n",
       "      <td>1.3</td>\n",
       "      <td>4.03</td>\n",
       "      <td>4.53</td>\n",
       "      <td>5.65</td>\n",
       "      <td>5.71</td>\n",
       "      <td>6.7</td>\n",
       "      <td>6.33</td>\n",
       "      <td>4.4</td>\n",
       "      <td>4.65</td>\n",
       "      <td>5.4</td>\n",
       "      <td>...</td>\n",
       "      <td></td>\n",
       "      <td></td>\n",
       "      <td></td>\n",
       "      <td></td>\n",
       "      <td></td>\n",
       "      <td></td>\n",
       "      <td></td>\n",
       "      <td></td>\n",
       "      <td></td>\n",
       "      <td></td>\n",
       "    </tr>\n",
       "    <tr>\n",
       "      <th>2020-09-12</th>\n",
       "      <td>1.92</td>\n",
       "      <td>3.84</td>\n",
       "      <td>4.71</td>\n",
       "      <td>4.65</td>\n",
       "      <td>6.07</td>\n",
       "      <td>6.57</td>\n",
       "      <td>5.76</td>\n",
       "      <td>5.27</td>\n",
       "      <td>5.14</td>\n",
       "      <td>5.7</td>\n",
       "      <td>...</td>\n",
       "      <td></td>\n",
       "      <td></td>\n",
       "      <td></td>\n",
       "      <td></td>\n",
       "      <td></td>\n",
       "      <td></td>\n",
       "      <td></td>\n",
       "      <td></td>\n",
       "      <td></td>\n",
       "      <td></td>\n",
       "    </tr>\n",
       "    <tr>\n",
       "      <th>2020-09-13</th>\n",
       "      <td>1.98</td>\n",
       "      <td>4.08</td>\n",
       "      <td>4.26</td>\n",
       "      <td>5.13</td>\n",
       "      <td>6.55</td>\n",
       "      <td>6.49</td>\n",
       "      <td>4.94</td>\n",
       "      <td>4.7</td>\n",
       "      <td>4.94</td>\n",
       "      <td>3.58</td>\n",
       "      <td>...</td>\n",
       "      <td></td>\n",
       "      <td></td>\n",
       "      <td></td>\n",
       "      <td></td>\n",
       "      <td></td>\n",
       "      <td></td>\n",
       "      <td></td>\n",
       "      <td></td>\n",
       "      <td></td>\n",
       "      <td></td>\n",
       "    </tr>\n",
       "    <tr>\n",
       "      <th>2020-09-14</th>\n",
       "      <td>2.22</td>\n",
       "      <td>3.83</td>\n",
       "      <td>4.51</td>\n",
       "      <td>5.31</td>\n",
       "      <td>6.49</td>\n",
       "      <td>6.98</td>\n",
       "      <td>6.3</td>\n",
       "      <td>4.45</td>\n",
       "      <td>2.9</td>\n",
       "      <td></td>\n",
       "      <td>...</td>\n",
       "      <td></td>\n",
       "      <td></td>\n",
       "      <td></td>\n",
       "      <td></td>\n",
       "      <td></td>\n",
       "      <td></td>\n",
       "      <td></td>\n",
       "      <td></td>\n",
       "      <td></td>\n",
       "      <td></td>\n",
       "    </tr>\n",
       "    <tr>\n",
       "      <th>2020-09-15</th>\n",
       "      <td>2.22</td>\n",
       "      <td>4.07</td>\n",
       "      <td>4.56</td>\n",
       "      <td>6.04</td>\n",
       "      <td>5.61</td>\n",
       "      <td>6.9</td>\n",
       "      <td>5.67</td>\n",
       "      <td>2.46</td>\n",
       "      <td></td>\n",
       "      <td></td>\n",
       "      <td>...</td>\n",
       "      <td></td>\n",
       "      <td></td>\n",
       "      <td></td>\n",
       "      <td></td>\n",
       "      <td></td>\n",
       "      <td></td>\n",
       "      <td></td>\n",
       "      <td></td>\n",
       "      <td></td>\n",
       "      <td></td>\n",
       "    </tr>\n",
       "    <tr>\n",
       "      <th>2020-09-16</th>\n",
       "      <td>1.91</td>\n",
       "      <td>4.25</td>\n",
       "      <td>4.62</td>\n",
       "      <td>4.68</td>\n",
       "      <td>6.77</td>\n",
       "      <td>6.95</td>\n",
       "      <td>3.38</td>\n",
       "      <td></td>\n",
       "      <td></td>\n",
       "      <td></td>\n",
       "      <td>...</td>\n",
       "      <td></td>\n",
       "      <td></td>\n",
       "      <td></td>\n",
       "      <td></td>\n",
       "      <td></td>\n",
       "      <td></td>\n",
       "      <td></td>\n",
       "      <td></td>\n",
       "      <td></td>\n",
       "      <td></td>\n",
       "    </tr>\n",
       "    <tr>\n",
       "      <th>2020-09-17</th>\n",
       "      <td>1.66</td>\n",
       "      <td>4.3</td>\n",
       "      <td>4.55</td>\n",
       "      <td>5.47</td>\n",
       "      <td>6.27</td>\n",
       "      <td>4.24</td>\n",
       "      <td></td>\n",
       "      <td></td>\n",
       "      <td></td>\n",
       "      <td></td>\n",
       "      <td>...</td>\n",
       "      <td></td>\n",
       "      <td></td>\n",
       "      <td></td>\n",
       "      <td></td>\n",
       "      <td></td>\n",
       "      <td></td>\n",
       "      <td></td>\n",
       "      <td></td>\n",
       "      <td></td>\n",
       "      <td></td>\n",
       "    </tr>\n",
       "    <tr>\n",
       "      <th>2020-09-18</th>\n",
       "      <td>1.9</td>\n",
       "      <td>4.54</td>\n",
       "      <td>4.23</td>\n",
       "      <td>5.21</td>\n",
       "      <td>3.74</td>\n",
       "      <td></td>\n",
       "      <td></td>\n",
       "      <td></td>\n",
       "      <td></td>\n",
       "      <td></td>\n",
       "      <td>...</td>\n",
       "      <td></td>\n",
       "      <td></td>\n",
       "      <td></td>\n",
       "      <td></td>\n",
       "      <td></td>\n",
       "      <td></td>\n",
       "      <td></td>\n",
       "      <td></td>\n",
       "      <td></td>\n",
       "      <td></td>\n",
       "    </tr>\n",
       "    <tr>\n",
       "      <th>2020-09-19</th>\n",
       "      <td>1.84</td>\n",
       "      <td>3.55</td>\n",
       "      <td>4.71</td>\n",
       "      <td>3.49</td>\n",
       "      <td></td>\n",
       "      <td></td>\n",
       "      <td></td>\n",
       "      <td></td>\n",
       "      <td></td>\n",
       "      <td></td>\n",
       "      <td>...</td>\n",
       "      <td></td>\n",
       "      <td></td>\n",
       "      <td></td>\n",
       "      <td></td>\n",
       "      <td></td>\n",
       "      <td></td>\n",
       "      <td></td>\n",
       "      <td></td>\n",
       "      <td></td>\n",
       "      <td></td>\n",
       "    </tr>\n",
       "    <tr>\n",
       "      <th>2020-09-20</th>\n",
       "      <td>2.44</td>\n",
       "      <td>4.34</td>\n",
       "      <td>2.38</td>\n",
       "      <td></td>\n",
       "      <td></td>\n",
       "      <td></td>\n",
       "      <td></td>\n",
       "      <td></td>\n",
       "      <td></td>\n",
       "      <td></td>\n",
       "      <td>...</td>\n",
       "      <td></td>\n",
       "      <td></td>\n",
       "      <td></td>\n",
       "      <td></td>\n",
       "      <td></td>\n",
       "      <td></td>\n",
       "      <td></td>\n",
       "      <td></td>\n",
       "      <td></td>\n",
       "      <td></td>\n",
       "    </tr>\n",
       "    <tr>\n",
       "      <th>2020-09-21</th>\n",
       "      <td>1.89</td>\n",
       "      <td>2.99</td>\n",
       "      <td></td>\n",
       "      <td></td>\n",
       "      <td></td>\n",
       "      <td></td>\n",
       "      <td></td>\n",
       "      <td></td>\n",
       "      <td></td>\n",
       "      <td></td>\n",
       "      <td>...</td>\n",
       "      <td></td>\n",
       "      <td></td>\n",
       "      <td></td>\n",
       "      <td></td>\n",
       "      <td></td>\n",
       "      <td></td>\n",
       "      <td></td>\n",
       "      <td></td>\n",
       "      <td></td>\n",
       "      <td></td>\n",
       "    </tr>\n",
       "    <tr>\n",
       "      <th>2020-09-22</th>\n",
       "      <td>0.85</td>\n",
       "      <td></td>\n",
       "      <td></td>\n",
       "      <td></td>\n",
       "      <td></td>\n",
       "      <td></td>\n",
       "      <td></td>\n",
       "      <td></td>\n",
       "      <td></td>\n",
       "      <td></td>\n",
       "      <td>...</td>\n",
       "      <td></td>\n",
       "      <td></td>\n",
       "      <td></td>\n",
       "      <td></td>\n",
       "      <td></td>\n",
       "      <td></td>\n",
       "      <td></td>\n",
       "      <td></td>\n",
       "      <td></td>\n",
       "      <td></td>\n",
       "    </tr>\n",
       "    <tr>\n",
       "      <th>2020-09-23</th>\n",
       "      <td></td>\n",
       "      <td></td>\n",
       "      <td></td>\n",
       "      <td></td>\n",
       "      <td></td>\n",
       "      <td></td>\n",
       "      <td></td>\n",
       "      <td></td>\n",
       "      <td></td>\n",
       "      <td></td>\n",
       "      <td>...</td>\n",
       "      <td></td>\n",
       "      <td></td>\n",
       "      <td></td>\n",
       "      <td></td>\n",
       "      <td></td>\n",
       "      <td></td>\n",
       "      <td></td>\n",
       "      <td></td>\n",
       "      <td></td>\n",
       "      <td></td>\n",
       "    </tr>\n",
       "  </tbody>\n",
       "</table>\n",
       "<p>23 rows × 22 columns</p>\n",
       "</div>"
      ],
      "text/plain": [
       "days          1     2     3     4     5     6     7     8     9     10  ...  \\\n",
       "reg_date                                                                ...   \n",
       "2020-09-01  2.02   4.1  4.22   4.6  6.43  5.61  6.43   4.1  5.42  5.11  ...   \n",
       "2020-09-02  2.52   3.9  4.66  5.67  6.23  7.12   6.3  4.85  4.09  5.67  ...   \n",
       "2020-09-03  2.33  5.41  4.71  6.54  6.98  8.55  6.35  5.47  6.29  6.35  ...   \n",
       "2020-09-04  2.01  3.64  3.64  5.15   6.4  7.28  4.96  5.34  4.33  5.65  ...   \n",
       "2020-09-05  2.76  3.95  4.64  5.45  5.89  7.46  4.89  5.08  5.45  6.02  ...   \n",
       "2020-09-06  3.13  4.32  5.44  5.63  5.88  6.82  6.07  5.82   5.5  4.88  ...   \n",
       "2020-09-07  2.94  4.25  5.37  5.06  6.37  7.31  5.25  4.12  5.62   6.0  ...   \n",
       "2020-09-08  1.75  3.93  3.93  4.86  7.61  7.54  6.61  5.17  5.17  6.55  ...   \n",
       "2020-09-09  1.74  3.24  4.67  5.72  6.66  5.72  5.91  4.36  5.04  3.73  ...   \n",
       "2020-09-10  2.05  4.29  4.79  4.23  6.77  6.28  7.09  4.85  4.54  5.66  ...   \n",
       "2020-09-11   1.3  4.03  4.53  5.65  5.71   6.7  6.33   4.4  4.65   5.4  ...   \n",
       "2020-09-12  1.92  3.84  4.71  4.65  6.07  6.57  5.76  5.27  5.14   5.7  ...   \n",
       "2020-09-13  1.98  4.08  4.26  5.13  6.55  6.49  4.94   4.7  4.94  3.58  ...   \n",
       "2020-09-14  2.22  3.83  4.51  5.31  6.49  6.98   6.3  4.45   2.9        ...   \n",
       "2020-09-15  2.22  4.07  4.56  6.04  5.61   6.9  5.67  2.46              ...   \n",
       "2020-09-16  1.91  4.25  4.62  4.68  6.77  6.95  3.38                    ...   \n",
       "2020-09-17  1.66   4.3  4.55  5.47  6.27  4.24                          ...   \n",
       "2020-09-18   1.9  4.54  4.23  5.21  3.74                                ...   \n",
       "2020-09-19  1.84  3.55  4.71  3.49                                      ...   \n",
       "2020-09-20  2.44  4.34  2.38                                            ...   \n",
       "2020-09-21  1.89  2.99                                                  ...   \n",
       "2020-09-22  0.85                                                        ...   \n",
       "2020-09-23                                                              ...   \n",
       "\n",
       "days          13    14    15    16    17    18    19    20    21    22  \n",
       "reg_date                                                                \n",
       "2020-09-01  5.49  4.29  4.41  4.35  5.04  4.16  4.35  3.59  4.35  1.58  \n",
       "2020-09-02  4.35  4.97  5.29  4.16  4.85   3.9  3.72  4.66  2.64        \n",
       "2020-09-03  5.97  5.47  5.34   4.4  4.84  4.65  5.47  2.39              \n",
       "2020-09-04  5.59  4.39  4.52  4.52  4.27  4.77  2.64                    \n",
       "2020-09-05  5.39  4.51  5.14  4.45  4.76  2.51                          \n",
       "2020-09-06  5.19   5.5  4.57  4.82  2.56                                \n",
       "2020-09-07  5.06  4.25  5.06  3.37                                      \n",
       "2020-09-08  5.17  4.74  3.05                                            \n",
       "2020-09-09  4.85  2.43                                                  \n",
       "2020-09-10   3.6                                                        \n",
       "2020-09-11                                                              \n",
       "2020-09-12                                                              \n",
       "2020-09-13                                                              \n",
       "2020-09-14                                                              \n",
       "2020-09-15                                                              \n",
       "2020-09-16                                                              \n",
       "2020-09-17                                                              \n",
       "2020-09-18                                                              \n",
       "2020-09-19                                                              \n",
       "2020-09-20                                                              \n",
       "2020-09-21                                                              \n",
       "2020-09-22                                                              \n",
       "2020-09-23                                                              \n",
       "\n",
       "[23 rows x 22 columns]"
      ]
     },
     "execution_count": 12,
     "metadata": {},
     "output_type": "execute_result"
    }
   ],
   "source": [
    "#Checking the function for playered registered since 2020-09-01\n",
    "retention_rate(df, '2020-09-01')"
   ]
  },
  {
   "cell_type": "markdown",
   "metadata": {},
   "source": [
    "### Task 2. \n",
    "\n",
    "You have the results of an A/B test in which two groups of users were offered different promotional sets. It is known that ARPU in the test group is 5% higher than in the control group. At the same time, in the control group, 1928 players out of 202103 turned out to be paying, and in the test group - 1805 out of 202667.\n",
    "\n",
    "What promotional set can be considered the best? What metrics should be analyzed to make the right decision and how?\n",
    "\n"
   ]
  },
  {
   "cell_type": "code",
   "execution_count": 13,
   "metadata": {},
   "outputs": [
    {
     "data": {
      "text/html": [
       "<div>\n",
       "<style scoped>\n",
       "    .dataframe tbody tr th:only-of-type {\n",
       "        vertical-align: middle;\n",
       "    }\n",
       "\n",
       "    .dataframe tbody tr th {\n",
       "        vertical-align: top;\n",
       "    }\n",
       "\n",
       "    .dataframe thead th {\n",
       "        text-align: right;\n",
       "    }\n",
       "</style>\n",
       "<table border=\"1\" class=\"dataframe\">\n",
       "  <thead>\n",
       "    <tr style=\"text-align: right;\">\n",
       "      <th></th>\n",
       "      <th>user_id</th>\n",
       "      <th>revenue</th>\n",
       "      <th>testgroup</th>\n",
       "    </tr>\n",
       "  </thead>\n",
       "  <tbody>\n",
       "    <tr>\n",
       "      <th>0</th>\n",
       "      <td>1</td>\n",
       "      <td>0</td>\n",
       "      <td>b</td>\n",
       "    </tr>\n",
       "    <tr>\n",
       "      <th>1</th>\n",
       "      <td>2</td>\n",
       "      <td>0</td>\n",
       "      <td>a</td>\n",
       "    </tr>\n",
       "    <tr>\n",
       "      <th>2</th>\n",
       "      <td>3</td>\n",
       "      <td>0</td>\n",
       "      <td>a</td>\n",
       "    </tr>\n",
       "    <tr>\n",
       "      <th>3</th>\n",
       "      <td>4</td>\n",
       "      <td>0</td>\n",
       "      <td>b</td>\n",
       "    </tr>\n",
       "    <tr>\n",
       "      <th>4</th>\n",
       "      <td>5</td>\n",
       "      <td>0</td>\n",
       "      <td>b</td>\n",
       "    </tr>\n",
       "    <tr>\n",
       "      <th>...</th>\n",
       "      <td>...</td>\n",
       "      <td>...</td>\n",
       "      <td>...</td>\n",
       "    </tr>\n",
       "    <tr>\n",
       "      <th>404765</th>\n",
       "      <td>404766</td>\n",
       "      <td>0</td>\n",
       "      <td>a</td>\n",
       "    </tr>\n",
       "    <tr>\n",
       "      <th>404766</th>\n",
       "      <td>404767</td>\n",
       "      <td>0</td>\n",
       "      <td>b</td>\n",
       "    </tr>\n",
       "    <tr>\n",
       "      <th>404767</th>\n",
       "      <td>404768</td>\n",
       "      <td>231</td>\n",
       "      <td>a</td>\n",
       "    </tr>\n",
       "    <tr>\n",
       "      <th>404768</th>\n",
       "      <td>404769</td>\n",
       "      <td>0</td>\n",
       "      <td>a</td>\n",
       "    </tr>\n",
       "    <tr>\n",
       "      <th>404769</th>\n",
       "      <td>404770</td>\n",
       "      <td>0</td>\n",
       "      <td>b</td>\n",
       "    </tr>\n",
       "  </tbody>\n",
       "</table>\n",
       "<p>404770 rows × 3 columns</p>\n",
       "</div>"
      ],
      "text/plain": [
       "        user_id  revenue testgroup\n",
       "0             1        0         b\n",
       "1             2        0         a\n",
       "2             3        0         a\n",
       "3             4        0         b\n",
       "4             5        0         b\n",
       "...         ...      ...       ...\n",
       "404765   404766        0         a\n",
       "404766   404767        0         b\n",
       "404767   404768      231         a\n",
       "404768   404769        0         a\n",
       "404769   404770        0         b\n",
       "\n",
       "[404770 rows x 3 columns]"
      ]
     },
     "execution_count": 13,
     "metadata": {},
     "output_type": "execute_result"
    }
   ],
   "source": [
    "#Reading the dataset\n",
    "\n",
    "ab_df = pd.read_csv('/Users/maria/Desktop/Учеба/mnt/HC_Volume_18315164/home-jupyter/jupyter-m-ajvazjan-23/shared/problem2.csv', sep = ';')\n",
    "ab_df"
   ]
  },
  {
   "cell_type": "code",
   "execution_count": 14,
   "metadata": {},
   "outputs": [
    {
     "name": "stdout",
     "output_type": "stream",
     "text": [
      "<class 'pandas.core.frame.DataFrame'>\n",
      "RangeIndex: 404770 entries, 0 to 404769\n",
      "Data columns (total 3 columns):\n",
      " #   Column     Non-Null Count   Dtype \n",
      "---  ------     --------------   ----- \n",
      " 0   user_id    404770 non-null  int64 \n",
      " 1   revenue    404770 non-null  int64 \n",
      " 2   testgroup  404770 non-null  object\n",
      "dtypes: int64(2), object(1)\n",
      "memory usage: 9.3+ MB\n"
     ]
    }
   ],
   "source": [
    "ab_df.info()"
   ]
  },
  {
   "cell_type": "code",
   "execution_count": 15,
   "metadata": {},
   "outputs": [
    {
     "data": {
      "text/plain": [
       "user_id      404770\n",
       "revenue        1477\n",
       "testgroup         2\n",
       "dtype: int64"
      ]
     },
     "execution_count": 15,
     "metadata": {},
     "output_type": "execute_result"
    }
   ],
   "source": [
    "ab_df.nunique()"
   ]
  },
  {
   "cell_type": "code",
   "execution_count": 16,
   "metadata": {},
   "outputs": [
    {
     "data": {
      "text/html": [
       "<div>\n",
       "<style scoped>\n",
       "    .dataframe tbody tr th:only-of-type {\n",
       "        vertical-align: middle;\n",
       "    }\n",
       "\n",
       "    .dataframe tbody tr th {\n",
       "        vertical-align: top;\n",
       "    }\n",
       "\n",
       "    .dataframe thead tr th {\n",
       "        text-align: left;\n",
       "    }\n",
       "\n",
       "    .dataframe thead tr:last-of-type th {\n",
       "        text-align: right;\n",
       "    }\n",
       "</style>\n",
       "<table border=\"1\" class=\"dataframe\">\n",
       "  <thead>\n",
       "    <tr>\n",
       "      <th></th>\n",
       "      <th colspan=\"8\" halign=\"left\">user_id</th>\n",
       "      <th colspan=\"8\" halign=\"left\">revenue</th>\n",
       "    </tr>\n",
       "    <tr>\n",
       "      <th></th>\n",
       "      <th>count</th>\n",
       "      <th>mean</th>\n",
       "      <th>std</th>\n",
       "      <th>min</th>\n",
       "      <th>25%</th>\n",
       "      <th>50%</th>\n",
       "      <th>75%</th>\n",
       "      <th>max</th>\n",
       "      <th>count</th>\n",
       "      <th>mean</th>\n",
       "      <th>std</th>\n",
       "      <th>min</th>\n",
       "      <th>25%</th>\n",
       "      <th>50%</th>\n",
       "      <th>75%</th>\n",
       "      <th>max</th>\n",
       "    </tr>\n",
       "    <tr>\n",
       "      <th>testgroup</th>\n",
       "      <th></th>\n",
       "      <th></th>\n",
       "      <th></th>\n",
       "      <th></th>\n",
       "      <th></th>\n",
       "      <th></th>\n",
       "      <th></th>\n",
       "      <th></th>\n",
       "      <th></th>\n",
       "      <th></th>\n",
       "      <th></th>\n",
       "      <th></th>\n",
       "      <th></th>\n",
       "      <th></th>\n",
       "      <th></th>\n",
       "      <th></th>\n",
       "    </tr>\n",
       "  </thead>\n",
       "  <tbody>\n",
       "    <tr>\n",
       "      <th>a</th>\n",
       "      <td>202103.0</td>\n",
       "      <td>202555.909843</td>\n",
       "      <td>116802.329266</td>\n",
       "      <td>2.0</td>\n",
       "      <td>101502.5</td>\n",
       "      <td>202988.0</td>\n",
       "      <td>303559.0</td>\n",
       "      <td>404769.0</td>\n",
       "      <td>202103.0</td>\n",
       "      <td>25.413720</td>\n",
       "      <td>920.768137</td>\n",
       "      <td>0.0</td>\n",
       "      <td>0.0</td>\n",
       "      <td>0.0</td>\n",
       "      <td>0.0</td>\n",
       "      <td>37433.0</td>\n",
       "    </tr>\n",
       "    <tr>\n",
       "      <th>b</th>\n",
       "      <td>202667.0</td>\n",
       "      <td>202215.564389</td>\n",
       "      <td>116891.926690</td>\n",
       "      <td>1.0</td>\n",
       "      <td>100855.5</td>\n",
       "      <td>201821.0</td>\n",
       "      <td>303602.5</td>\n",
       "      <td>404770.0</td>\n",
       "      <td>202667.0</td>\n",
       "      <td>26.751287</td>\n",
       "      <td>287.324162</td>\n",
       "      <td>0.0</td>\n",
       "      <td>0.0</td>\n",
       "      <td>0.0</td>\n",
       "      <td>0.0</td>\n",
       "      <td>4000.0</td>\n",
       "    </tr>\n",
       "  </tbody>\n",
       "</table>\n",
       "</div>"
      ],
      "text/plain": [
       "            user_id                                                         \\\n",
       "              count           mean            std  min       25%       50%   \n",
       "testgroup                                                                    \n",
       "a          202103.0  202555.909843  116802.329266  2.0  101502.5  202988.0   \n",
       "b          202667.0  202215.564389  116891.926690  1.0  100855.5  201821.0   \n",
       "\n",
       "                                revenue                                        \\\n",
       "                75%       max     count       mean         std  min  25%  50%   \n",
       "testgroup                                                                       \n",
       "a          303559.0  404769.0  202103.0  25.413720  920.768137  0.0  0.0  0.0   \n",
       "b          303602.5  404770.0  202667.0  26.751287  287.324162  0.0  0.0  0.0   \n",
       "\n",
       "                         \n",
       "           75%      max  \n",
       "testgroup                \n",
       "a          0.0  37433.0  \n",
       "b          0.0   4000.0  "
      ]
     },
     "execution_count": 16,
     "metadata": {},
     "output_type": "execute_result"
    }
   ],
   "source": [
    "ab_df.groupby('testgroup').describe()"
   ]
  },
  {
   "cell_type": "markdown",
   "metadata": {},
   "source": [
    "According to the data, we have two groups - control (a) and test (b) - 202103 and 202667 players in each, respectively. The total number of unique players is equal to the sum of the players in each group, which means that each observation in the dataset is unique. \n",
    "\n",
    "For convenience purposes, I'm going to divide the table into two separate datasets - one for each group. "
   ]
  },
  {
   "cell_type": "code",
   "execution_count": 17,
   "metadata": {},
   "outputs": [],
   "source": [
    "control_a = ab_df.query('testgroup == \"a\"')\n",
    "test_b = ab_df.query('testgroup == \"b\"')"
   ]
  },
  {
   "cell_type": "code",
   "execution_count": 18,
   "metadata": {},
   "outputs": [
    {
     "data": {
      "text/plain": [
       "(202103, 3)"
      ]
     },
     "execution_count": 18,
     "metadata": {},
     "output_type": "execute_result"
    }
   ],
   "source": [
    "control_a.shape"
   ]
  },
  {
   "cell_type": "code",
   "execution_count": 19,
   "metadata": {},
   "outputs": [
    {
     "data": {
      "text/plain": [
       "(202667, 3)"
      ]
     },
     "execution_count": 19,
     "metadata": {},
     "output_type": "execute_result"
    }
   ],
   "source": [
    "test_b.shape"
   ]
  },
  {
   "cell_type": "markdown",
   "metadata": {},
   "source": [
    "First metric I'm going to analyze is a convertion rate. The target action will be an in-game purchase. To calculate the convertion into a purchase I will divide users into customers and buyers and calculate their ratio."
   ]
  },
  {
   "cell_type": "code",
   "execution_count": 20,
   "metadata": {},
   "outputs": [],
   "source": [
    "control_a['player_type'] = control_a.revenue.apply(lambda x: 'purchaser' if x > 0 else 'user')\n",
    "test_b['player_type'] = test_b.revenue.apply(lambda x: 'purchaser' if x > 0 else 'user')"
   ]
  },
  {
   "cell_type": "code",
   "execution_count": 21,
   "metadata": {},
   "outputs": [
    {
     "data": {
      "text/plain": [
       "user         99.046031\n",
       "purchaser     0.953969\n",
       "Name: player_type, dtype: float64"
      ]
     },
     "execution_count": 21,
     "metadata": {},
     "output_type": "execute_result"
    }
   ],
   "source": [
    "#Counting the convertion rate for the control group \n",
    "control_a.player_type.value_counts(normalize=True) * 100 "
   ]
  },
  {
   "cell_type": "code",
   "execution_count": 22,
   "metadata": {},
   "outputs": [
    {
     "data": {
      "text/plain": [
       "user         99.109376\n",
       "purchaser     0.890624\n",
       "Name: player_type, dtype: float64"
      ]
     },
     "execution_count": 22,
     "metadata": {},
     "output_type": "execute_result"
    }
   ],
   "source": [
    "#Counting the convertion rate for the test group \n",
    "test_b.player_type.value_counts(normalize=True) * 100 "
   ]
  },
  {
   "cell_type": "markdown",
   "metadata": {},
   "source": [
    "The results show that the conversion in the control group is higher and is 0.95%, while the conversion in the test group is 0.89%.\n",
    "\n",
    "Next, let's look at the check distribution in each of the groups."
   ]
  },
  {
   "cell_type": "code",
   "execution_count": 23,
   "metadata": {
    "scrolled": true
   },
   "outputs": [
    {
     "data": {
      "text/plain": [
       "<AxesSubplot: >"
      ]
     },
     "execution_count": 23,
     "metadata": {},
     "output_type": "execute_result"
    },
    {
     "data": {
      "image/png": "[encoded data removed]",
      "text/plain": [
       "<Figure size 640x480 with 1 Axes>"
      ]
     },
     "metadata": {},
     "output_type": "display_data"
    }
   ],
   "source": [
    "control_a.query('player_type == \"purchaser\"').revenue.hist()"
   ]
  },
  {
   "cell_type": "code",
   "execution_count": 24,
   "metadata": {},
   "outputs": [
    {
     "data": {
      "text/plain": [
       "count     1928.000000\n",
       "mean      2663.998444\n",
       "std       9049.039763\n",
       "min        200.000000\n",
       "25%        257.000000\n",
       "50%        311.000000\n",
       "75%        361.000000\n",
       "max      37433.000000\n",
       "Name: revenue, dtype: float64"
      ]
     },
     "execution_count": 24,
     "metadata": {},
     "output_type": "execute_result"
    }
   ],
   "source": [
    "control_a.query('player_type == \"purchaser\"').revenue.describe()"
   ]
  },
  {
   "cell_type": "code",
   "execution_count": 25,
   "metadata": {},
   "outputs": [
    {
     "data": {
      "text/plain": [
       "<AxesSubplot: >"
      ]
     },
     "execution_count": 25,
     "metadata": {},
     "output_type": "execute_result"
    },
    {
     "data": {
      "image/png": "[encoded data removed]",
      "text/plain": [
       "<Figure size 640x480 with 1 Axes>"
      ]
     },
     "metadata": {},
     "output_type": "display_data"
    }
   ],
   "source": [
    "test_b.query('player_type == \"purchaser\"').revenue.hist()"
   ]
  },
  {
   "cell_type": "code",
   "execution_count": 26,
   "metadata": {},
   "outputs": [
    {
     "data": {
      "text/plain": [
       "count    1805.000000\n",
       "mean     3003.658172\n",
       "std       572.619709\n",
       "min      2000.000000\n",
       "25%      2513.000000\n",
       "50%      3022.000000\n",
       "75%      3478.000000\n",
       "max      4000.000000\n",
       "Name: revenue, dtype: float64"
      ]
     },
     "execution_count": 26,
     "metadata": {},
     "output_type": "execute_result"
    }
   ],
   "source": [
    "test_b.query('player_type == \"purchaser\"').revenue.describe()"
   ]
  },
  {
   "cell_type": "markdown",
   "metadata": {},
   "source": [
    "We see that checks in the test group are distributed evenly, while in the control group there's a big gap between the lowest and the highest check. We also see that some players made a purchase for more than 30 000 in total. \n",
    "Let's look at the check distribution in the control group without these large payments. "
   ]
  },
  {
   "cell_type": "code",
   "execution_count": 27,
   "metadata": {},
   "outputs": [
    {
     "data": {
      "text/plain": [
       "count    1805.000000\n",
       "mean      302.458172\n",
       "std        57.914246\n",
       "min       200.000000\n",
       "25%       254.000000\n",
       "50%       305.000000\n",
       "75%       352.000000\n",
       "max       400.000000\n",
       "Name: revenue, dtype: float64"
      ]
     },
     "execution_count": 27,
     "metadata": {},
     "output_type": "execute_result"
    }
   ],
   "source": [
    "control_a.query('player_type == \"purchaser\" and revenue < 30000').revenue.describe()"
   ]
  },
  {
   "cell_type": "code",
   "execution_count": 28,
   "metadata": {},
   "outputs": [
    {
     "data": {
      "text/plain": [
       "<AxesSubplot: >"
      ]
     },
     "execution_count": 28,
     "metadata": {},
     "output_type": "execute_result"
    },
    {
     "data": {
      "image/png": "[encoded data removed]",
      "text/plain": [
       "<Figure size 640x480 with 1 Axes>"
      ]
     },
     "metadata": {},
     "output_type": "display_data"
    }
   ],
   "source": [
    "control_a.query('player_type == \"purchaser\" and revenue < 30000').revenue.hist()"
   ]
  },
  {
   "cell_type": "markdown",
   "metadata": {},
   "source": [
    "According to the histogram, if we exclude large payments for over 30 000, we see even check distribution in the control group. "
   ]
  },
  {
   "cell_type": "markdown",
   "metadata": {},
   "source": [
    "Let's take a look at the total revenue in both groups. "
   ]
  },
  {
   "cell_type": "code",
   "execution_count": 29,
   "metadata": {},
   "outputs": [
    {
     "name": "stdout",
     "output_type": "stream",
     "text": [
      "Total revenue in the control group: 5136189 \n",
      " Total revenue in the test group: 5421603\n"
     ]
    }
   ],
   "source": [
    "print('Total revenue in the control group:', control_a.revenue.sum(),'\\n',\n",
    "      'Total revenue in the test group:', test_b.revenue.sum())"
   ]
  },
  {
   "cell_type": "code",
   "execution_count": 30,
   "metadata": {},
   "outputs": [
    {
     "data": {
      "text/plain": [
       "89.37"
      ]
     },
     "execution_count": 30,
     "metadata": {},
     "output_type": "execute_result"
    }
   ],
   "source": [
    "#Calculating what persentage of the revenue comes from the premium users\n",
    "premium_payers = ((control_a.query('player_type == \"purchaser\" and revenue > 30000').revenue.sum() / control_a.revenue.sum())*100).round(2)\n",
    "premium_payers"
   ]
  },
  {
   "cell_type": "code",
   "execution_count": 31,
   "metadata": {},
   "outputs": [
    {
     "data": {
      "text/plain": [
       "0.06"
      ]
     },
     "execution_count": 31,
     "metadata": {},
     "output_type": "execute_result"
    }
   ],
   "source": [
    "#Calculating the share of premium clients of the total amount of players in the group \n",
    "premium_players = ((control_a.query('player_type == \"purchaser\" and revenue > 30000').user_id.count() / control_a.user_id.count())*100).round(2)\n",
    "premium_players"
   ]
  },
  {
   "cell_type": "markdown",
   "metadata": {},
   "source": [
    "We see that most of the revenue (89.37%) in the control group is generated by premium payers, whose share of the total users of the group is only 0.06%.\n",
    "\n",
    "Moving on to calculating two more metrics - ARPPU (average revenue per paying user) and ARPU (average revenue per user)."
   ]
  },
  {
   "cell_type": "code",
   "execution_count": 32,
   "metadata": {},
   "outputs": [],
   "source": [
    "#Test group \n",
    "test_arppu = (test_b.revenue.sum() / test_b.query('player_type == \"purchaser\"').shape[0]).round(2)\n",
    "test_arpu = (test_b.revenue.sum()/ test_b.shape[0]).round(2)"
   ]
  },
  {
   "cell_type": "code",
   "execution_count": 33,
   "metadata": {},
   "outputs": [],
   "source": [
    "#Control group\n",
    "control_arppu = (control_a.revenue.sum() / control_a.query('player_type == \"purchaser\"').shape[0]).round(2)\n",
    "control_arpu = (control_a.revenue.sum()/ control_a.shape[0]).round(2)"
   ]
  },
  {
   "cell_type": "code",
   "execution_count": 34,
   "metadata": {},
   "outputs": [
    {
     "name": "stdout",
     "output_type": "stream",
     "text": [
      "ARPPU of the test group: 3003.66 \n",
      " ARPPU of the control group: 2664.0 \n",
      " ARPU of the test group: 26.75 \n",
      " ARPU of the control group: 25.41 \n",
      "\n"
     ]
    }
   ],
   "source": [
    "print('ARPPU of the test group:', test_arppu,'\\n',\n",
    "      'ARPPU of the control group:', control_arppu,'\\n',\n",
    "      'ARPU of the test group:', test_arpu,'\\n',\n",
    "      'ARPU of the control group:', control_arpu,'\\n')"
   ]
  },
  {
   "cell_type": "markdown",
   "metadata": {},
   "source": [
    "Values of both metrics are higher in the test group. However, testing is required to check if the differences are random or significant, i. e. determined by the implemented promotional offer. To do this, I'm going to use statistical methods. To decide which statistical tests to select, I will first use the Shapiro–Wilk normality test to check if the data is distributed normally. \n",
    "\n",
    "We'll start with ARPU. "
   ]
  },
  {
   "cell_type": "code",
   "execution_count": 35,
   "metadata": {},
   "outputs": [
    {
     "name": "stdout",
     "output_type": "stream",
     "text": [
      "ShapiroResult(statistic=0.06588172912597656, pvalue=0.0)\n",
      "ShapiroResult(statistic=0.008876502513885498, pvalue=0.0)\n"
     ]
    }
   ],
   "source": [
    "print(ss.shapiro(test_b.revenue))\n",
    "print(ss.shapiro(control_a.revenue))"
   ]
  },
  {
   "cell_type": "markdown",
   "metadata": {},
   "source": [
    "The resulting p-value shows that we have an abnormal distribution in both groups. We will next test the equality of means. For this, I'm going to use bootstrapping as the main method here. \n",
    "\n",
    "The hypotheses to test:\\\n",
    "H0 - differences are random and not statistically significant\\\n",
    "H1 - differences are statistically significant"
   ]
  },
  {
   "cell_type": "code",
   "execution_count": 36,
   "metadata": {},
   "outputs": [],
   "source": [
    "# Creating a function which will test the hypotheses using bootstrap \n",
    "def get_bootstrap(\n",
    "    control, # values for the first sample \n",
    "    test, # values for the second sample\n",
    "    boot_it = 1000, # number of bootstrap subsamples\n",
    "    statistic = np.mean, # statistics we test\n",
    "    bootstrap_conf_level = 0.95 # significance level\n",
    "):\n",
    "    boot_len = max([len(control), len(test)])\n",
    "    boot_data = []\n",
    "    for i in tqdm(range(boot_it)): # extracting subsamples\n",
    "        samples_1 = control.sample(\n",
    "            boot_len, \n",
    "            replace = True # return parameter\n",
    "        ).values\n",
    "        \n",
    "        samples_2 = test.sample(\n",
    "            boot_len, \n",
    "            replace = True\n",
    "        ).values\n",
    "        \n",
    "        boot_data.append(statistic(samples_1-samples_2)) \n",
    "        \n",
    "    pd_boot_data = pd.DataFrame(boot_data)\n",
    "        \n",
    "    left_quant = (1 - bootstrap_conf_level)/2\n",
    "    right_quant = 1 - (1 - bootstrap_conf_level) / 2\n",
    "    ci = pd_boot_data.quantile([left_quant, right_quant])\n",
    "        \n",
    "    p_1 = norm.cdf(\n",
    "        x = 0, \n",
    "        loc = np.mean(boot_data), \n",
    "        scale = np.std(boot_data)\n",
    "    )\n",
    "    p_2 = norm.cdf(\n",
    "        x = 0, \n",
    "        loc = -np.mean(boot_data), \n",
    "        scale = np.std(boot_data)\n",
    "    )\n",
    "    p_value = min(p_1, p_2) * 2\n",
    "        \n",
    "    # Visualizing\n",
    "    plt.hist(pd_boot_data[0], bins = 50)\n",
    "    \n",
    "    plt.style.use('ggplot')\n",
    "    plt.vlines(ci,ymin=0,ymax=50,linestyle='--')\n",
    "    plt.xlabel('boot_data')\n",
    "    plt.ylabel('frequency')\n",
    "    plt.title(\"Histogram of boot_data\")\n",
    "    plt.show()\n",
    "       \n",
    "    return {\"boot_data\": boot_data, \n",
    "            \"ci\": ci, \n",
    "            \"p_value\": p_value}"
   ]
  },
  {
   "cell_type": "code",
   "execution_count": 37,
   "metadata": {},
   "outputs": [
    {
     "name": "stderr",
     "output_type": "stream",
     "text": [
      "100%|██████████| 2000/2000 [00:40<00:00, 49.65it/s]\n"
     ]
    },
    {
     "data": {
      "image/png": "[encoded data removed]",
      "text/plain": [
       "<Figure size 640x480 with 1 Axes>"
      ]
     },
     "metadata": {},
     "output_type": "display_data"
    }
   ],
   "source": [
    "# the result contains the difference between two distributions, CI and p-value\n",
    "booted_data = get_bootstrap(test_b.revenue, control_a.revenue, boot_it = 2000) "
   ]
  },
  {
   "cell_type": "code",
   "execution_count": 38,
   "metadata": {},
   "outputs": [
    {
     "name": "stdout",
     "output_type": "stream",
     "text": [
      "0.5326165632831759\n",
      "              0\n",
      "0.025 -2.723702\n",
      "0.975  5.210019\n"
     ]
    }
   ],
   "source": [
    "print(booted_data[\"p_value\"])\n",
    "print(booted_data[\"ci\"])"
   ]
  },
  {
   "cell_type": "markdown",
   "metadata": {},
   "source": [
    "\n",
    "We found that p-value > 0.05, which means that there's not currently enough evidence to conclude that the null hypothesis can be rejected and leads to the conclusion that the differences presented in the two groups are not statistically significant.\n",
    "\n",
    "Therefore, the difference in ARPU in the two groups is random."
   ]
  },
  {
   "cell_type": "markdown",
   "metadata": {},
   "source": [
    "Similarly, we will check the next metric - ARPPU. We'll start by testing the normality of distribution."
   ]
  },
  {
   "cell_type": "code",
   "execution_count": 39,
   "metadata": {},
   "outputs": [
    {
     "name": "stdout",
     "output_type": "stream",
     "text": [
      "ShapiroResult(statistic=0.2667924165725708, pvalue=0.0)\n",
      "ShapiroResult(statistic=0.9583134651184082, pvalue=2.4929213770979496e-22)\n"
     ]
    }
   ],
   "source": [
    "x = control_a.query('revenue > 0')\n",
    "y = test_b.query('revenue > 0')\n",
    "print(ss.shapiro(x.revenue))\n",
    "print(ss.shapiro(y.revenue))"
   ]
  },
  {
   "cell_type": "code",
   "execution_count": 40,
   "metadata": {},
   "outputs": [
    {
     "name": "stderr",
     "output_type": "stream",
     "text": [
      "100%|██████████| 2000/2000 [00:00<00:00, 3004.37it/s]\n"
     ]
    },
    {
     "data": {
      "image/png": "[encoded data removed]",
      "text/plain": [
       "<Figure size 640x480 with 1 Axes>"
      ]
     },
     "metadata": {},
     "output_type": "display_data"
    }
   ],
   "source": [
    "booted_data_2 = get_bootstrap(x.revenue, y.revenue, boot_it = 2000)"
   ]
  },
  {
   "cell_type": "code",
   "execution_count": 41,
   "metadata": {},
   "outputs": [
    {
     "name": "stdout",
     "output_type": "stream",
     "text": [
      "0.10255396166443269\n",
      "                0\n",
      "0.025 -736.928060\n",
      "0.975   87.615301\n"
     ]
    }
   ],
   "source": [
    "print(booted_data_2[\"p_value\"])\n",
    "print(booted_data_2[\"ci\"])"
   ]
  },
  {
   "cell_type": "markdown",
   "metadata": {},
   "source": [
    "In this case, the p-value is also greater than 0.05, and a confidence interval includes zero. This also leads to the retention of the null hypothesis and gives us a reason to claim that the differences in the ARPPU metric are also not statistically significant."
   ]
  },
  {
   "cell_type": "markdown",
   "metadata": {},
   "source": [
    "Previously, we calculated the conversion rate and found the difference in CR between the test and control groups, which was that the CR in the control group was higher. However, it is also necessary to check if these differences are statistically significant.\n"
   ]
  },
  {
   "cell_type": "code",
   "execution_count": 42,
   "metadata": {},
   "outputs": [],
   "source": [
    "ab_df['player_type'] = ab_df.revenue.apply(lambda x: 'purchaser' if x > 0 else 'user')"
   ]
  },
  {
   "cell_type": "code",
   "execution_count": 43,
   "metadata": {},
   "outputs": [
    {
     "data": {
      "text/html": [
       "<div>\n",
       "<style scoped>\n",
       "    .dataframe tbody tr th:only-of-type {\n",
       "        vertical-align: middle;\n",
       "    }\n",
       "\n",
       "    .dataframe tbody tr th {\n",
       "        vertical-align: top;\n",
       "    }\n",
       "\n",
       "    .dataframe thead th {\n",
       "        text-align: right;\n",
       "    }\n",
       "</style>\n",
       "<table border=\"1\" class=\"dataframe\">\n",
       "  <thead>\n",
       "    <tr style=\"text-align: right;\">\n",
       "      <th>testgroup</th>\n",
       "      <th>a</th>\n",
       "      <th>b</th>\n",
       "    </tr>\n",
       "    <tr>\n",
       "      <th>player_type</th>\n",
       "      <th></th>\n",
       "      <th></th>\n",
       "    </tr>\n",
       "  </thead>\n",
       "  <tbody>\n",
       "    <tr>\n",
       "      <th>purchaser</th>\n",
       "      <td>1928</td>\n",
       "      <td>1805</td>\n",
       "    </tr>\n",
       "    <tr>\n",
       "      <th>user</th>\n",
       "      <td>200175</td>\n",
       "      <td>200862</td>\n",
       "    </tr>\n",
       "  </tbody>\n",
       "</table>\n",
       "</div>"
      ],
      "text/plain": [
       "testgroup         a       b\n",
       "player_type                \n",
       "purchaser      1928    1805\n",
       "user         200175  200862"
      ]
     },
     "execution_count": 43,
     "metadata": {},
     "output_type": "execute_result"
    }
   ],
   "source": [
    "pd.crosstab(ab_df.player_type, ab_df.testgroup) "
   ]
  },
  {
   "cell_type": "code",
   "execution_count": 44,
   "metadata": {},
   "outputs": [
    {
     "name": "stdout",
     "output_type": "stream",
     "text": [
      "P-value = 0.036 \n",
      " Chi2 = 4.375 \n",
      " Degrees of Freedom = 1 \n",
      " Expected Values = [[  1864.   1869.]\n",
      " [200239. 200798.]]\n"
     ]
    }
   ],
   "source": [
    "stat, p, dof, expected = chi2_contingency(pd.crosstab(ab_df.player_type, ab_df.testgroup)) \n",
    "\n",
    "print(\"P-value =\",             p.round(3), '\\n', \n",
    "      \"Chi2 =\",                stat.round(3),'\\n', \n",
    "      \"Degrees of Freedom =\",  dof,'\\n',\n",
    "      \"Expected Values =\",     expected.round())"
   ]
  },
  {
   "cell_type": "markdown",
   "metadata": {},
   "source": [
    "Here we got the opposite result - the p-value allows us to reject the null hypothesis and confirm that the changes are statistically significant."
   ]
  },
  {
   "cell_type": "markdown",
   "metadata": {},
   "source": [
    "Conclusions\n",
    "\n",
    "In this project, we analyzed three main metrics - CR, ARPU, and ARPPU. The CR in the control group was higher, and further tests confirmed that these differences are statistically significant. However, total revenue was higher in the test group.\n",
    "\n",
    "The other two metrics - ARPU and ARPPU - turned out to be higher in the test group. However, the bootstrap showed that we can assume, with a high degree of probability, that these differences are random and not determined by the implemented promotional offer.\n",
    "\n",
    "We also looked at the check distribution in both groups and found that in the test group the distribution is even and ranges between 2000-4000 USD. Meanwhile, in the control group, we can see a small group of premium players with large in-game purchases for over 30,000 USD, having the checks of other players of the same group range between 200-400 USD. 89.37% of the income in the control group is generated by premium players, while their share is only 0.06% of total users in the group.\n",
    "\n",
    "At first glance, promotional offer sets in the test group look more attractive. With a lower CR, the total revenue, as well as the average check, is higher in the group, and the check distribution is more even, hence more stable.\n",
    "However, testing of other metrics showed that the metric changes in the test group are not determined by the promotional offer sets but are random.\n",
    "\n",
    "Therefore, I suggest that we continue testing promotional offer sets and observing user behavior for a longer period and not roll out the features to all users yet."
   ]
  },
  {
   "cell_type": "markdown",
   "metadata": {},
   "source": [
    "### Task 3.\n",
    "\n",
    "Plants & Gardens game has a limited-time themed event every month. In these events, players can get unique items for their virtual garden and the characters, as well as additional coins or bonuses. To receive a reward, you need to complete a series of levels in a certain amount of time. \n",
    "What metrics can be used to evaluate the results of the latest themed event?\n",
    "\n",
    "Suppose that in another event, we made it harder for players to succeed in the event. Now, with each unsuccessful attempt to complete the level, the player will roll back several levels. Will the set of performance evaluation metrics change? If so, how?"
   ]
  },
  {
   "cell_type": "markdown",
   "metadata": {},
   "source": [
    "##### Metrics for evaluating the results of a themed event: \n",
    "\n",
    "- To count the number of players who participated in the themed event.  **Active users** metric allows calculating how many players used the application at the time of the event.\\\n",
    "Metrics **DAU - the number of active users per day, and MAU - he number of active users per month** could be suitable for this, depending on the duration of the event. We can later compare the results with the ones we had during the pre-event period. \n",
    "- It would also be useful to check the **Stickness rate** - the percentage of users who \"stick\" to the application. Stickiness rate = DAU/MAU\n",
    "- **Retention rate** - the percentage of users who logged into the application over a certain period after the first login. Increased RR is one of the indicators of the success of the event.\n",
    "- The retention rate is closely related to the user **Churn rate**. This metric should become lower. If it does not happen, it is necessary to analyze at what stage most users fall off, whether it is due to technical errors or to the difficulties that players face in the game itself (for example, the complexity of the level).\n",
    "In this case, we can analyze each level of the game and find out the average time players take to complete each level and to complete all the levels.\n",
    "- **Lifetime** - a metric that evaluates the time spent in the game and indicates the involvement of users in the game.\n",
    "- Interest in the event can also be evaluated using the **Conversion rate** - both the conversion of all players into users participating in the event and the conversion funnel that leads them through passing each level.\n",
    "\n",
    "##### Monetary metrics\n",
    "If the game provides in-app purchases, it would also be useful to pay attention to the following metrics:\n",
    "- **New Paying Users** - the number of users who made their first payment in the application during the event.\n",
    "- **Conversion Rate** - in this case, we will use the payment as a target action and count the users who have converted into buyers.\n",
    "- **ARPU** - average income per user.\n",
    "- **ARPPU** - average income per paying user.\n",
    "We are looking to see if the metrics  changed with the start of the event and decide if the event is successful in terms of revenue.\n",
    "\n",
    "##### Will the set of performance evaluation metrics change with the modifications in the game rules? If so, how?\n",
    "\n",
    "The metrics above will remain relevant.\\\n",
    "Closer attention, in this case, will need to be paid to the relative conversion of moving to the next level and to the retention rate: what share of players remain in the game even after rollbacks to previous levels.\\\n",
    "\n",
    "It will also be useful to study monetary metrics here. If there is an option in the game to buy additional bonuses to move to the next level faster, then it is likely that this will motivate players to pay more. This will directly affect monetary metrics (first of all, ARPU, ARPPU), which show us if the event is a success in terms of revenue.\n",
    "\n",
    "As an additional metric, we should also look at the ASL - average session duration - and see if it has changed after the modifications. Perhaps the average session time has become shorter as users get tired of replaying levels.\n",
    "\n",
    "It can be informative to study all the metrics by user segments (grouped by the number of levels passed, bonuses earned, etc.)"
   ]
  },
  {
   "cell_type": "code",
   "execution_count": null,
   "metadata": {},
   "outputs": [],
   "source": []
  }
 ],
 "metadata": {
  "kernelspec": {
   "display_name": "Python 3.10.8 64-bit",
   "language": "python",
   "name": "python3"
  },
  "language_info": {
   "codemirror_mode": {
    "name": "ipython",
    "version": 3
   },
   "file_extension": ".py",
   "mimetype": "text/x-python",
   "name": "python",
   "nbconvert_exporter": "python",
   "pygments_lexer": "ipython3",
   "version": "3.10.8"
  },
  "vscode": {
   "interpreter": {
    "hash": "aee8b7b246df8f9039afb4144a1f6fd8d2ca17a180786b69acc140d282b71a49"
   }
  }
 },
 "nbformat": 4,
 "nbformat_minor": 4
}
